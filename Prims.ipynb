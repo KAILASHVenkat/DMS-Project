{
  "nbformat": 4,
  "nbformat_minor": 0,
  "metadata": {
    "colab": {
      "provenance": [],
      "authorship_tag": "ABX9TyPjnGoVvxqgn6jO4S2Qgn3A",
      "include_colab_link": true
    },
    "kernelspec": {
      "name": "python3",
      "display_name": "Python 3"
    },
    "language_info": {
      "name": "python"
    },
    "widgets": {
      "application/vnd.jupyter.widget-state+json": {
        "bcdc3459d0414d94adc5d52d3a8c90bf": {
          "model_module": "@jupyter-widgets/controls",
          "model_name": "TabModel",
          "model_module_version": "1.5.0",
          "state": {
            "_dom_classes": [],
            "_model_module": "@jupyter-widgets/controls",
            "_model_module_version": "1.5.0",
            "_model_name": "TabModel",
            "_titles": {
              "0": "Edge Information",
              "1": "Original Graph",
              "2": "MST"
            },
            "_view_count": null,
            "_view_module": "@jupyter-widgets/controls",
            "_view_module_version": "1.5.0",
            "_view_name": "TabView",
            "box_style": "",
            "children": [
              "IPY_MODEL_d842a2a78ec1494989f093ee6faf97d1",
              "IPY_MODEL_dfbe22f7a99444f89514b00793b380f1",
              "IPY_MODEL_3a98dfc9976e4ae4a66bc71b49f06fa0"
            ],
            "layout": "IPY_MODEL_5080f6e1a75147fb9e98bd383a9d3345",
            "selected_index": 2
          }
        },
        "d842a2a78ec1494989f093ee6faf97d1": {
          "model_module": "@jupyter-widgets/output",
          "model_name": "OutputModel",
          "model_module_version": "1.0.0",
          "state": {
            "_dom_classes": [],
            "_model_module": "@jupyter-widgets/output",
            "_model_module_version": "1.0.0",
            "_model_name": "OutputModel",
            "_view_count": null,
            "_view_module": "@jupyter-widgets/output",
            "_view_module_version": "1.0.0",
            "_view_name": "OutputView",
            "layout": "IPY_MODEL_0031c34085af42708d041cf0bd7e992c",
            "msg_id": "",
            "outputs": [
              {
                "output_type": "display_data",
                "data": {
                  "text/plain": "   Source  Target  Weight\n0       0       1       2\n1       0       2       3\n2       0       3       6\n3       0       4       9\n4       0       5       4\n5       1       5       6\n6       2       4       3\n7       3       2       4\n8       4       5      10",
                  "text/html": "\n  <div id=\"df-e4e3dcf3-5360-4eaf-89d2-060e10f1a785\" class=\"colab-df-container\">\n    <div>\n<style scoped>\n    .dataframe tbody tr th:only-of-type {\n        vertical-align: middle;\n    }\n\n    .dataframe tbody tr th {\n        vertical-align: top;\n    }\n\n    .dataframe thead th {\n        text-align: right;\n    }\n</style>\n<table border=\"1\" class=\"dataframe\">\n  <thead>\n    <tr style=\"text-align: right;\">\n      <th></th>\n      <th>Source</th>\n      <th>Target</th>\n      <th>Weight</th>\n    </tr>\n  </thead>\n  <tbody>\n    <tr>\n      <th>0</th>\n      <td>0</td>\n      <td>1</td>\n      <td>2</td>\n    </tr>\n    <tr>\n      <th>1</th>\n      <td>0</td>\n      <td>2</td>\n      <td>3</td>\n    </tr>\n    <tr>\n      <th>2</th>\n      <td>0</td>\n      <td>3</td>\n      <td>6</td>\n    </tr>\n    <tr>\n      <th>3</th>\n      <td>0</td>\n      <td>4</td>\n      <td>9</td>\n    </tr>\n    <tr>\n      <th>4</th>\n      <td>0</td>\n      <td>5</td>\n      <td>4</td>\n    </tr>\n    <tr>\n      <th>5</th>\n      <td>1</td>\n      <td>5</td>\n      <td>6</td>\n    </tr>\n    <tr>\n      <th>6</th>\n      <td>2</td>\n      <td>4</td>\n      <td>3</td>\n    </tr>\n    <tr>\n      <th>7</th>\n      <td>3</td>\n      <td>2</td>\n      <td>4</td>\n    </tr>\n    <tr>\n      <th>8</th>\n      <td>4</td>\n      <td>5</td>\n      <td>10</td>\n    </tr>\n  </tbody>\n</table>\n</div>\n    <div class=\"colab-df-buttons\">\n\n  <div class=\"colab-df-container\">\n    <button class=\"colab-df-convert\" onclick=\"convertToInteractive('df-e4e3dcf3-5360-4eaf-89d2-060e10f1a785')\"\n            title=\"Convert this dataframe to an interactive table.\"\n            style=\"display:none;\">\n\n  <svg xmlns=\"http://www.w3.org/2000/svg\" height=\"24px\" viewBox=\"0 -960 960 960\">\n    <path d=\"M120-120v-720h720v720H120Zm60-500h600v-160H180v160Zm220 220h160v-160H400v160Zm0 220h160v-160H400v160ZM180-400h160v-160H180v160Zm440 0h160v-160H620v160ZM180-180h160v-160H180v160Zm440 0h160v-160H620v160Z\"/>\n  </svg>\n    </button>\n\n  <style>\n    .colab-df-container {\n      display:flex;\n      gap: 12px;\n    }\n\n    .colab-df-convert {\n      background-color: #E8F0FE;\n      border: none;\n      border-radius: 50%;\n      cursor: pointer;\n      display: none;\n      fill: #1967D2;\n      height: 32px;\n      padding: 0 0 0 0;\n      width: 32px;\n    }\n\n    .colab-df-convert:hover {\n      background-color: #E2EBFA;\n      box-shadow: 0px 1px 2px rgba(60, 64, 67, 0.3), 0px 1px 3px 1px rgba(60, 64, 67, 0.15);\n      fill: #174EA6;\n    }\n\n    .colab-df-buttons div {\n      margin-bottom: 4px;\n    }\n\n    [theme=dark] .colab-df-convert {\n      background-color: #3B4455;\n      fill: #D2E3FC;\n    }\n\n    [theme=dark] .colab-df-convert:hover {\n      background-color: #434B5C;\n      box-shadow: 0px 1px 3px 1px rgba(0, 0, 0, 0.15);\n      filter: drop-shadow(0px 1px 2px rgba(0, 0, 0, 0.3));\n      fill: #FFFFFF;\n    }\n  </style>\n\n    <script>\n      const buttonEl =\n        document.querySelector('#df-e4e3dcf3-5360-4eaf-89d2-060e10f1a785 button.colab-df-convert');\n      buttonEl.style.display =\n        google.colab.kernel.accessAllowed ? 'block' : 'none';\n\n      async function convertToInteractive(key) {\n        const element = document.querySelector('#df-e4e3dcf3-5360-4eaf-89d2-060e10f1a785');\n        const dataTable =\n          await google.colab.kernel.invokeFunction('convertToInteractive',\n                                                    [key], {});\n        if (!dataTable) return;\n\n        const docLinkHtml = 'Like what you see? Visit the ' +\n          '<a target=\"_blank\" href=https://colab.research.google.com/notebooks/data_table.ipynb>data table notebook</a>'\n          + ' to learn more about interactive tables.';\n        element.innerHTML = '';\n        dataTable['output_type'] = 'display_data';\n        await google.colab.output.renderOutput(dataTable, element);\n        const docLink = document.createElement('div');\n        docLink.innerHTML = docLinkHtml;\n        element.appendChild(docLink);\n      }\n    </script>\n  </div>\n\n\n<div id=\"df-60447286-f120-4b53-9ee4-b0a4fdcaae75\">\n  <button class=\"colab-df-quickchart\" onclick=\"quickchart('df-60447286-f120-4b53-9ee4-b0a4fdcaae75')\"\n            title=\"Suggest charts\"\n            style=\"display:none;\">\n\n<svg xmlns=\"http://www.w3.org/2000/svg\" height=\"24px\"viewBox=\"0 0 24 24\"\n     width=\"24px\">\n    <g>\n        <path d=\"M19 3H5c-1.1 0-2 .9-2 2v14c0 1.1.9 2 2 2h14c1.1 0 2-.9 2-2V5c0-1.1-.9-2-2-2zM9 17H7v-7h2v7zm4 0h-2V7h2v10zm4 0h-2v-4h2v4z\"/>\n    </g>\n</svg>\n  </button>\n\n<style>\n  .colab-df-quickchart {\n      --bg-color: #E8F0FE;\n      --fill-color: #1967D2;\n      --hover-bg-color: #E2EBFA;\n      --hover-fill-color: #174EA6;\n      --disabled-fill-color: #AAA;\n      --disabled-bg-color: #DDD;\n  }\n\n  [theme=dark] .colab-df-quickchart {\n      --bg-color: #3B4455;\n      --fill-color: #D2E3FC;\n      --hover-bg-color: #434B5C;\n      --hover-fill-color: #FFFFFF;\n      --disabled-bg-color: #3B4455;\n      --disabled-fill-color: #666;\n  }\n\n  .colab-df-quickchart {\n    background-color: var(--bg-color);\n    border: none;\n    border-radius: 50%;\n    cursor: pointer;\n    display: none;\n    fill: var(--fill-color);\n    height: 32px;\n    padding: 0;\n    width: 32px;\n  }\n\n  .colab-df-quickchart:hover {\n    background-color: var(--hover-bg-color);\n    box-shadow: 0 1px 2px rgba(60, 64, 67, 0.3), 0 1px 3px 1px rgba(60, 64, 67, 0.15);\n    fill: var(--button-hover-fill-color);\n  }\n\n  .colab-df-quickchart-complete:disabled,\n  .colab-df-quickchart-complete:disabled:hover {\n    background-color: var(--disabled-bg-color);\n    fill: var(--disabled-fill-color);\n    box-shadow: none;\n  }\n\n  .colab-df-spinner {\n    border: 2px solid var(--fill-color);\n    border-color: transparent;\n    border-bottom-color: var(--fill-color);\n    animation:\n      spin 1s steps(1) infinite;\n  }\n\n  @keyframes spin {\n    0% {\n      border-color: transparent;\n      border-bottom-color: var(--fill-color);\n      border-left-color: var(--fill-color);\n    }\n    20% {\n      border-color: transparent;\n      border-left-color: var(--fill-color);\n      border-top-color: var(--fill-color);\n    }\n    30% {\n      border-color: transparent;\n      border-left-color: var(--fill-color);\n      border-top-color: var(--fill-color);\n      border-right-color: var(--fill-color);\n    }\n    40% {\n      border-color: transparent;\n      border-right-color: var(--fill-color);\n      border-top-color: var(--fill-color);\n    }\n    60% {\n      border-color: transparent;\n      border-right-color: var(--fill-color);\n    }\n    80% {\n      border-color: transparent;\n      border-right-color: var(--fill-color);\n      border-bottom-color: var(--fill-color);\n    }\n    90% {\n      border-color: transparent;\n      border-bottom-color: var(--fill-color);\n    }\n  }\n</style>\n\n  <script>\n    async function quickchart(key) {\n      const quickchartButtonEl =\n        document.querySelector('#' + key + ' button');\n      quickchartButtonEl.disabled = true;  // To prevent multiple clicks.\n      quickchartButtonEl.classList.add('colab-df-spinner');\n      try {\n        const charts = await google.colab.kernel.invokeFunction(\n            'suggestCharts', [key], {});\n      } catch (error) {\n        console.error('Error during call to suggestCharts:', error);\n      }\n      quickchartButtonEl.classList.remove('colab-df-spinner');\n      quickchartButtonEl.classList.add('colab-df-quickchart-complete');\n    }\n    (() => {\n      let quickchartButtonEl =\n        document.querySelector('#df-60447286-f120-4b53-9ee4-b0a4fdcaae75 button');\n      quickchartButtonEl.style.display =\n        google.colab.kernel.accessAllowed ? 'block' : 'none';\n    })();\n  </script>\n</div>\n    </div>\n  </div>\n"
                },
                "metadata": {}
              }
            ]
          }
        },
        "dfbe22f7a99444f89514b00793b380f1": {
          "model_module": "@jupyter-widgets/output",
          "model_name": "OutputModel",
          "model_module_version": "1.0.0",
          "state": {
            "_dom_classes": [],
            "_model_module": "@jupyter-widgets/output",
            "_model_module_version": "1.0.0",
            "_model_name": "OutputModel",
            "_view_count": null,
            "_view_module": "@jupyter-widgets/output",
            "_view_module_version": "1.0.0",
            "_view_name": "OutputView",
            "layout": "IPY_MODEL_e8affcc998be4d89ba316a7dd8e993f7",
            "msg_id": "",
            "outputs": [
              {
                "output_type": "display_data",
                "data": {
                  "text/plain": "<Figure size 640x480 with 1 Axes>",
                  "image/png": "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\n"
                },
                "metadata": {}
              }
            ]
          }
        },
        "3a98dfc9976e4ae4a66bc71b49f06fa0": {
          "model_module": "@jupyter-widgets/output",
          "model_name": "OutputModel",
          "model_module_version": "1.0.0",
          "state": {
            "_dom_classes": [],
            "_model_module": "@jupyter-widgets/output",
            "_model_module_version": "1.0.0",
            "_model_name": "OutputModel",
            "_view_count": null,
            "_view_module": "@jupyter-widgets/output",
            "_view_module_version": "1.0.0",
            "_view_name": "OutputView",
            "layout": "IPY_MODEL_55f176f2914a47d59a007d2c5acf1add",
            "msg_id": "",
            "outputs": [
              {
                "output_type": "display_data",
                "data": {
                  "text/plain": "<Figure size 640x480 with 1 Axes>",
                  "image/png": "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\n"
                },
                "metadata": {}
              }
            ]
          }
        },
        "5080f6e1a75147fb9e98bd383a9d3345": {
          "model_module": "@jupyter-widgets/base",
          "model_name": "LayoutModel",
          "model_module_version": "1.2.0",
          "state": {
            "_model_module": "@jupyter-widgets/base",
            "_model_module_version": "1.2.0",
            "_model_name": "LayoutModel",
            "_view_count": null,
            "_view_module": "@jupyter-widgets/base",
            "_view_module_version": "1.2.0",
            "_view_name": "LayoutView",
            "align_content": null,
            "align_items": null,
            "align_self": null,
            "border": null,
            "bottom": null,
            "display": null,
            "flex": null,
            "flex_flow": null,
            "grid_area": null,
            "grid_auto_columns": null,
            "grid_auto_flow": null,
            "grid_auto_rows": null,
            "grid_column": null,
            "grid_gap": null,
            "grid_row": null,
            "grid_template_areas": null,
            "grid_template_columns": null,
            "grid_template_rows": null,
            "height": null,
            "justify_content": null,
            "justify_items": null,
            "left": null,
            "margin": null,
            "max_height": null,
            "max_width": null,
            "min_height": null,
            "min_width": null,
            "object_fit": null,
            "object_position": null,
            "order": null,
            "overflow": null,
            "overflow_x": null,
            "overflow_y": null,
            "padding": null,
            "right": null,
            "top": null,
            "visibility": null,
            "width": null
          }
        },
        "0031c34085af42708d041cf0bd7e992c": {
          "model_module": "@jupyter-widgets/base",
          "model_name": "LayoutModel",
          "model_module_version": "1.2.0",
          "state": {
            "_model_module": "@jupyter-widgets/base",
            "_model_module_version": "1.2.0",
            "_model_name": "LayoutModel",
            "_view_count": null,
            "_view_module": "@jupyter-widgets/base",
            "_view_module_version": "1.2.0",
            "_view_name": "LayoutView",
            "align_content": null,
            "align_items": null,
            "align_self": null,
            "border": null,
            "bottom": null,
            "display": null,
            "flex": null,
            "flex_flow": null,
            "grid_area": null,
            "grid_auto_columns": null,
            "grid_auto_flow": null,
            "grid_auto_rows": null,
            "grid_column": null,
            "grid_gap": null,
            "grid_row": null,
            "grid_template_areas": null,
            "grid_template_columns": null,
            "grid_template_rows": null,
            "height": null,
            "justify_content": null,
            "justify_items": null,
            "left": null,
            "margin": null,
            "max_height": null,
            "max_width": null,
            "min_height": null,
            "min_width": null,
            "object_fit": null,
            "object_position": null,
            "order": null,
            "overflow": null,
            "overflow_x": null,
            "overflow_y": null,
            "padding": null,
            "right": null,
            "top": null,
            "visibility": null,
            "width": null
          }
        },
        "e8affcc998be4d89ba316a7dd8e993f7": {
          "model_module": "@jupyter-widgets/base",
          "model_name": "LayoutModel",
          "model_module_version": "1.2.0",
          "state": {
            "_model_module": "@jupyter-widgets/base",
            "_model_module_version": "1.2.0",
            "_model_name": "LayoutModel",
            "_view_count": null,
            "_view_module": "@jupyter-widgets/base",
            "_view_module_version": "1.2.0",
            "_view_name": "LayoutView",
            "align_content": null,
            "align_items": null,
            "align_self": null,
            "border": null,
            "bottom": null,
            "display": null,
            "flex": null,
            "flex_flow": null,
            "grid_area": null,
            "grid_auto_columns": null,
            "grid_auto_flow": null,
            "grid_auto_rows": null,
            "grid_column": null,
            "grid_gap": null,
            "grid_row": null,
            "grid_template_areas": null,
            "grid_template_columns": null,
            "grid_template_rows": null,
            "height": null,
            "justify_content": null,
            "justify_items": null,
            "left": null,
            "margin": null,
            "max_height": null,
            "max_width": null,
            "min_height": null,
            "min_width": null,
            "object_fit": null,
            "object_position": null,
            "order": null,
            "overflow": null,
            "overflow_x": null,
            "overflow_y": null,
            "padding": null,
            "right": null,
            "top": null,
            "visibility": null,
            "width": null
          }
        },
        "55f176f2914a47d59a007d2c5acf1add": {
          "model_module": "@jupyter-widgets/base",
          "model_name": "LayoutModel",
          "model_module_version": "1.2.0",
          "state": {
            "_model_module": "@jupyter-widgets/base",
            "_model_module_version": "1.2.0",
            "_model_name": "LayoutModel",
            "_view_count": null,
            "_view_module": "@jupyter-widgets/base",
            "_view_module_version": "1.2.0",
            "_view_name": "LayoutView",
            "align_content": null,
            "align_items": null,
            "align_self": null,
            "border": null,
            "bottom": null,
            "display": null,
            "flex": null,
            "flex_flow": null,
            "grid_area": null,
            "grid_auto_columns": null,
            "grid_auto_flow": null,
            "grid_auto_rows": null,
            "grid_column": null,
            "grid_gap": null,
            "grid_row": null,
            "grid_template_areas": null,
            "grid_template_columns": null,
            "grid_template_rows": null,
            "height": null,
            "justify_content": null,
            "justify_items": null,
            "left": null,
            "margin": null,
            "max_height": null,
            "max_width": null,
            "min_height": null,
            "min_width": null,
            "object_fit": null,
            "object_position": null,
            "order": null,
            "overflow": null,
            "overflow_x": null,
            "overflow_y": null,
            "padding": null,
            "right": null,
            "top": null,
            "visibility": null,
            "width": null
          }
        }
      }
    }
  },
  "cells": [
    {
      "cell_type": "markdown",
      "metadata": {
        "id": "view-in-github",
        "colab_type": "text"
      },
      "source": [
        "<a href=\"https://colab.research.google.com/github/KAILASHVenkat/DMS-Project/blob/main/Prims.ipynb\" target=\"_parent\"><img src=\"https://colab.research.google.com/assets/colab-badge.svg\" alt=\"Open In Colab\"/></a>"
      ]
    },
    {
      "cell_type": "code",
      "source": [
        "!pip install pydot"
      ],
      "metadata": {
        "id": "up9YaNzVGFOQ"
      },
      "execution_count": null,
      "outputs": []
    },
    {
      "cell_type": "code",
      "source": [
        "!pip install networkx matplotlib"
      ],
      "metadata": {
        "id": "qM1CIRubPGN6"
      },
      "execution_count": null,
      "outputs": []
    },
    {
      "cell_type": "code",
      "execution_count": 55,
      "metadata": {
        "id": "Tsa99RsKPE1r"
      },
      "outputs": [],
      "source": [
        "import networkx as nx\n",
        "import matplotlib.pyplot as plt\n",
        "import warnings"
      ]
    },
    {
      "cell_type": "code",
      "source": [
        "import pandas as pd\n",
        "import numpy as np\n",
        "import heapq\n",
        "import networkx as nx\n",
        "import matplotlib.pyplot as plt\n",
        "import ipywidgets as widgets\n",
        "from IPython.display import display, clear_output\n",
        "\n",
        "# Function to read CSV data from GitHub\n",
        "def read_csv_from_github(file_url):\n",
        "    df = pd.read_csv(file_url)\n",
        "    return df\n",
        "\n",
        "# Class for the Graph data structure\n",
        "class Graph:\n",
        "    def __init__(self, vertices):\n",
        "        self.vertices = vertices\n",
        "        self.graph = {v: [] for v in range(vertices)}\n",
        "\n",
        "    def add_edge(self, u, v, weight):\n",
        "        self.graph[u].append((v, weight))\n",
        "        self.graph[v].append((u, weight))\n",
        "\n",
        "# Modified Prim's algorithm\n",
        "def mst_modified_prim(graph, root):\n",
        "    jet = [float('inf')] * graph.vertices\n",
        "    parent = [None] * graph.vertices\n",
        "    visited = [False] * graph.vertices\n",
        "\n",
        "    jet[root] = 0\n",
        "    pq = [(0, root)]\n",
        "\n",
        "    while pq:\n",
        "        current_weight, current_vertex = heapq.heappop(pq)\n",
        "        visited[current_vertex] = True\n",
        "\n",
        "        for neighbor, weight in graph.graph[current_vertex]:\n",
        "            if not visited[neighbor] and weight < jet[neighbor]:\n",
        "                jet[neighbor] = weight\n",
        "                parent[neighbor] = current_vertex\n",
        "                heapq.heappush(pq, (weight, neighbor))\n",
        "\n",
        "    return parent, jet\n",
        "\n",
        "# Function to build the original graph\n",
        "def build_original_graph(df):\n",
        "    G_original = nx.Graph()\n",
        "    for _, row in df.iterrows():\n",
        "        G_original.add_edge(row['Source'], row['Target'], weight=row['Weight'])\n",
        "    return G_original\n",
        "\n",
        "# Function to visualize the graph\n",
        "def visualize_graph(G, title):\n",
        "    pos = nx.spring_layout(G)\n",
        "    edge_labels = {(i, j): w['weight'] for i, j, w in G.edges(data=True)}\n",
        "\n",
        "    nx.draw(G, pos, with_labels=True, font_weight='bold', node_size=700, node_color='skyblue', font_color='black', font_size=10, edge_color='gray')\n",
        "    nx.draw_networkx_edge_labels(G, pos, edge_labels=edge_labels)\n",
        "    plt.title(title)\n",
        "    plt.show()\n",
        "\n",
        "# Function to visualize the minimum spanning tree as a tree\n",
        "def visualize_mst_tree(G_mst):\n",
        "    with warnings.catch_warnings():\n",
        "        warnings.simplefilter(\"ignore\", category=DeprecationWarning)\n",
        "        pos = nx.drawing.nx_pydot.graphviz_layout(G_mst, prog=\"dot\")\n",
        "\n",
        "    edge_labels = {(i, j): w['weight'] for i, j, w in G_mst.edges(data=True)}\n",
        "\n",
        "    nx.draw(G_mst, pos, with_labels=True, font_weight='bold', node_size=700, node_color='black', font_color='white', font_size=10, edge_color='gray', connectionstyle='arc3,rad=0.1')\n",
        "    nx.draw_networkx_edge_labels(G_mst, pos, edge_labels=edge_labels)\n",
        "    plt.title(\"Minimum Spanning Tree (Tree View)\")\n",
        "    plt.show()\n",
        "\n",
        "def main(file_url):\n",
        "    # Read CSV data from GitHub\n",
        "    df = read_csv_from_github(file_url)\n",
        "\n",
        "    # Build the original graph\n",
        "    G_original = build_original_graph(df)\n",
        "\n",
        "    # Build the graph data structure for the algorithm\n",
        "    num_vertices = max(df['Source'].max(), df['Target'].max()) + 1\n",
        "    graph = Graph(num_vertices)\n",
        "\n",
        "    for _, row in df.iterrows():\n",
        "        graph.add_edge(row['Source'], row['Target'], row['Weight'])\n",
        "\n",
        "    # Create the Modified Prim's algorithm\n",
        "    root_node = 0\n",
        "    parent, jet = mst_modified_prim(graph, root_node)\n",
        "\n",
        "    # Build the Minimum Spanning Tree graph\n",
        "    G_mst = build_mst_graph(parent, jet)\n",
        "\n",
        "    # Display GUI with tabs\n",
        "    tab_layout = widgets.Tab()\n",
        "\n",
        "    # Tab 1: Edge Information (Table)\n",
        "    edge_info_widget = widgets.Output()\n",
        "    with edge_info_widget:\n",
        "        display(df)\n",
        "    tab_layout.set_title(0, 'Edge Information')\n",
        "    tab_layout.children = (edge_info_widget,)\n",
        "\n",
        "    # Tab 2: Original Graph Visualization\n",
        "    original_graph_widget = widgets.Output()\n",
        "    with original_graph_widget:\n",
        "        visualize_graph(G_original, \"Original Graph\")\n",
        "    tab_layout.set_title(1, 'Original Graph')\n",
        "    tab_layout.children += (original_graph_widget,)\n",
        "\n",
        "    # Tab 3: Minimum Spanning Tree (Tree View)\n",
        "    mst_tree_widget = widgets.Output()\n",
        "    with mst_tree_widget:\n",
        "        visualize_mst_tree(G_mst)\n",
        "    tab_layout.set_title(2, 'MST')\n",
        "    tab_layout.children += (mst_tree_widget,)\n",
        "\n",
        "    display(tab_layout)\n",
        "\n",
        "# Replace 'your_file_url' with the actual GitHub raw CSV file URL\n",
        "file_url = 'https://github.com/KAILASHVenkat/DMS-Project/raw/main/1.csv'\n",
        "main(file_url)\n"
      ],
      "metadata": {
        "colab": {
          "base_uri": "https://localhost:8080/",
          "height": 600,
          "referenced_widgets": [
            "bcdc3459d0414d94adc5d52d3a8c90bf",
            "d842a2a78ec1494989f093ee6faf97d1",
            "dfbe22f7a99444f89514b00793b380f1",
            "3a98dfc9976e4ae4a66bc71b49f06fa0",
            "5080f6e1a75147fb9e98bd383a9d3345",
            "0031c34085af42708d041cf0bd7e992c",
            "e8affcc998be4d89ba316a7dd8e993f7",
            "55f176f2914a47d59a007d2c5acf1add"
          ]
        },
        "id": "9pmVtNZ7GkKo",
        "outputId": "0bebc6a5-504b-4402-d5f6-229b70fd9007"
      },
      "execution_count": 56,
      "outputs": [
        {
          "output_type": "display_data",
          "data": {
            "text/plain": [
              "Tab(children=(Output(), Output(), Output()), _titles={'0': 'Edge Information', '1': 'Original Graph', '2': 'MS…"
            ],
            "application/vnd.jupyter.widget-view+json": {
              "version_major": 2,
              "version_minor": 0,
              "model_id": "bcdc3459d0414d94adc5d52d3a8c90bf"
            }
          },
          "metadata": {}
        }
      ]
    }
  ]
}