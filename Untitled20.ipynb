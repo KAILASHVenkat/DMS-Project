{
  "nbformat": 4,
  "nbformat_minor": 0,
  "metadata": {
    "colab": {
      "provenance": [],
      "authorship_tag": "ABX9TyO5mzvR67LXqhQoq4sIJSF+",
      "include_colab_link": true
    },
    "kernelspec": {
      "name": "python3",
      "display_name": "Python 3"
    },
    "language_info": {
      "name": "python"
    }
  },
  "cells": [
    {
      "cell_type": "markdown",
      "metadata": {
        "id": "view-in-github",
        "colab_type": "text"
      },
      "source": [
        "<a href=\"https://colab.research.google.com/github/KAILASHVenkat/DMS-Project/blob/main/Untitled20.ipynb\" target=\"_parent\"><img src=\"https://colab.research.google.com/assets/colab-badge.svg\" alt=\"Open In Colab\"/></a>"
      ]
    },
    {
      "cell_type": "code",
      "source": [
        "#1(a) using trivial iterations :\n",
        "\n",
        "def p(n):\n",
        "  arr=[0.06, 0.19, 0.17, 0.20, 0.22, 0.16]\n",
        "  return arr[n-1]\n",
        "\n",
        "count=0\n",
        "for i in range(1,7):\n",
        "  for j in range(1,7):\n",
        "    for k in range(1,7):\n",
        "      for l in range(1,7):\n",
        "        for m in range(1,7):\n",
        "          for n in range(1,7):\n",
        "            if(i+j+k+l+m+n<22):\n",
        "              count+=p(i)*p(j)*p(k)*p(l)*p(m)*p(n)\n",
        "\n",
        "print(f\"The probability is : {count}\")"
      ],
      "metadata": {
        "colab": {
          "base_uri": "https://localhost:8080/"
        },
        "id": "UpAKeFuTu5My",
        "outputId": "a539cf1a-452e-4bdc-ae0f-53678c013cfe"
      },
      "execution_count": 13,
      "outputs": [
        {
          "output_type": "stream",
          "name": "stdout",
          "text": [
            "The probability is : 0.35651255353999467\n"
          ]
        }
      ]
    },
    {
      "cell_type": "code",
      "source": [
        "#1(a) using itertools :\n",
        "\n",
        "import numpy as np\n",
        "from itertools import product\n",
        "\n",
        "probs = [0.06, 0.19, 0.17, 0.20, 0.22, 0.16]\n",
        "values = [1, 2, 3, 4, 5, 6]\n",
        "num_rolls = 6\n",
        "target_sum = 22\n",
        "\n",
        "outcomes = product(values, repeat=num_rolls)\n",
        "\n",
        "probability_less_than_22 = 0.0\n",
        "\n",
        "for outcome in outcomes:\n",
        "    outcome_sum = sum(outcome)\n",
        "    if outcome_sum < target_sum:\n",
        "        outcome_probability = np.prod([probs[values.index(roll)] for roll in outcome])\n",
        "        probability_less_than_22 += outcome_probability\n",
        "\n",
        "print(\"Probability that the sum of six rolls is less than 22:\", probability_less_than_22)\n"
      ],
      "metadata": {
        "colab": {
          "base_uri": "https://localhost:8080/"
        },
        "id": "qqNUHYBs2uum",
        "outputId": "52ddaa91-53f1-4d6b-d389-6fa0c904aeca"
      },
      "execution_count": 14,
      "outputs": [
        {
          "output_type": "stream",
          "name": "stdout",
          "text": [
            "Probability that the sum of six rolls is less than 22: 0.35651255353999467\n"
          ]
        }
      ]
    },
    {
      "cell_type": "code",
      "execution_count": 15,
      "metadata": {
        "colab": {
          "base_uri": "https://localhost:8080/"
        },
        "id": "jjiR7G38ne8n",
        "outputId": "4db6b6d3-d217-4a8f-d73f-9ed3db338389"
      },
      "outputs": [
        {
          "output_type": "stream",
          "name": "stdout",
          "text": [
            "Probability that the sum of six rolls is less than 22: 0.35651255354000005\n"
          ]
        }
      ],
      "source": [
        "#1(a) using Dynamic Programming :\n",
        "\n",
        "import numpy as np\n",
        "\n",
        "probs = [0.06, 0.19, 0.17, 0.20, 0.22, 0.16]\n",
        "values = [1, 2, 3, 4, 5, 6]\n",
        "num_rolls = 6\n",
        "target_sum = 22\n",
        "\n",
        "dp = np.zeros((num_rolls + 1, target_sum + 1))\n",
        "dp[0][0] = 1\n",
        "\n",
        "for roll in range(1, num_rolls + 1):\n",
        "    for s in range(target_sum + 1):\n",
        "        for value, prob in zip(values, probs):\n",
        "            if s >= value:\n",
        "                dp[roll][s] += dp[roll - 1][s - value] * prob\n",
        "\n",
        "probability_less_than_22 = sum(dp[num_rolls][s] for s in range(target_sum))\n",
        "print(\"Probability that the sum of six rolls is less than 22:\", probability_less_than_22)\n"
      ]
    },
    {
      "cell_type": "code",
      "source": [
        "#1(a) using Monte Carlo for verification\n",
        "\n",
        "import numpy as np\n",
        "\n",
        "probs = [0.06, 0.19, 0.17, 0.20, 0.22, 0.16]\n",
        "values = [1, 2, 3, 4, 5, 6]\n",
        "\n",
        "n_simulations = 1000000\n",
        "sums = []\n",
        "\n",
        "for _ in range(n_simulations):\n",
        "    rolls = np.random.choice(values, size=6, p=probs)\n",
        "    sums.append(np.sum(rolls))\n",
        "\n",
        "probability_less_than_22 = np.sum(np.array(sums) < 22) / n_simulations\n",
        "print(\"Probability that the sum of six rolls is less than 22:\", probability_less_than_22)\n"
      ],
      "metadata": {
        "colab": {
          "base_uri": "https://localhost:8080/"
        },
        "id": "-9yfQ2rhokGM",
        "outputId": "1ca134f6-cf07-47ce-a7f8-df80f27f9eaf"
      },
      "execution_count": 16,
      "outputs": [
        {
          "output_type": "stream",
          "name": "stdout",
          "text": [
            "Probability that the sum of six rolls is less than 22: 0.356418\n"
          ]
        }
      ]
    },
    {
      "cell_type": "code",
      "source": [
        "#1(b) using sample space enumeration :\n",
        "import itertools\n",
        "p_boy = 0.5\n",
        "p_girl = 0.5\n",
        "p_blue_eye = 0.25\n",
        "p_black_eye = 0.75\n",
        "p_blue_eyed_girl = p_girl * p_blue_eye\n",
        "p_black_eyed_boy = p_boy * p_black_eye\n",
        "\n",
        "children_outcomes = list(itertools.product([\"blue_eyed_girl\", \"black_eyed_boy\"], repeat=5))\n",
        "\n",
        "favorable_outcomes = 0\n",
        "for outcome in children_outcomes:\n",
        "    if outcome.count(\"blue_eyed_girl\") == 3 and outcome.count(\"black_eyed_boy\") == 2:\n",
        "        favorable_outcomes += 1\n",
        "\n",
        "probability = favorable_outcomes * (p_blue_eyed_girl**3) * (p_black_eyed_boy**2)\n",
        "print(\"Probability of exactly 3 blue-eyed girls and 2 black-eyed boys:\", probability)\n"
      ],
      "metadata": {
        "colab": {
          "base_uri": "https://localhost:8080/"
        },
        "id": "SBRTQUsJ3xC0",
        "outputId": "69177e37-2659-4d47-908f-670174cbc998"
      },
      "execution_count": 17,
      "outputs": [
        {
          "output_type": "stream",
          "name": "stdout",
          "text": [
            "Probability of exactly 3 blue-eyed girls and 2 black-eyed boys: 0.00274658203125\n"
          ]
        }
      ]
    },
    {
      "cell_type": "code",
      "source": [
        "#1(b) using formula :\n",
        "\n",
        "from scipy.stats import binom\n",
        "\n",
        "p_boy = 0.5\n",
        "p_girl = 0.5\n",
        "p_blue_eye = 0.25\n",
        "p_black_eye = 0.75\n",
        "\n",
        "p_blue_eyed_girl = p_girl * p_blue_eye\n",
        "p_black_eyed_boy = p_boy * p_black_eye\n",
        "\n",
        "c5_3=10\n",
        "\n",
        "p=c5_3*((p_blue_eyed_girl)**3)*((p_black_eyed_boy)**2)\n",
        "\n",
        "#THe logic behind the formula is that we have 5 trials and we need 3 blue eyed girls and 2 black eyed boys. So, we can select 3 out of 5 in 5C3 ways and then,\n",
        "#the probability that these 3 are all girls with blue eyes is p_blue_eyed_girl^3 as these 3 are independent events. THe other 2 must be black eyed boys. So\n",
        "#p_black_eyed_boys^2. Thus, the formula becomes 5C3 * p_blue_eyed_girl^3 * p_black_eyed_boy^2\n",
        "\n",
        "print(\"Probability of exactly 3 blue-eyed girls and 2 black-eyed boys:\", p)\n"
      ],
      "metadata": {
        "colab": {
          "base_uri": "https://localhost:8080/"
        },
        "id": "337Lex0Lnjj9",
        "outputId": "648ada7f-8d64-48ea-f044-3b2e765abc18"
      },
      "execution_count": 18,
      "outputs": [
        {
          "output_type": "stream",
          "name": "stdout",
          "text": [
            "Probability of exactly 3 blue-eyed girls and 2 black-eyed boys: 0.00274658203125\n"
          ]
        }
      ]
    },
    {
      "cell_type": "code",
      "source": [
        "#1(b) using Monte Carlo Simulations for verification :\n",
        "\n",
        "import numpy as np\n",
        "\n",
        "p_boy = 0.5\n",
        "p_girl = 0.5\n",
        "p_blue_eye = 0.25\n",
        "p_black_eye = 0.75\n",
        "\n",
        "p_blue_eyed_girl = p_girl * p_blue_eye\n",
        "p_black_eyed_boy = p_boy * p_black_eye\n",
        "\n",
        "n_simulations = 1000000\n",
        "success_count = 0\n",
        "\n",
        "for _ in range(n_simulations):\n",
        "    babies = np.random.choice(\n",
        "        [\"blue_eyed_girl\", \"black_eyed_boy\", \"other\"],\n",
        "        size=5,\n",
        "        p=[p_blue_eyed_girl, p_black_eyed_boy, 1 - p_blue_eyed_girl - p_black_eyed_boy]\n",
        "    )\n",
        "\n",
        "    if np.count_nonzero(babies == \"blue_eyed_girl\") == 3 and np.count_nonzero(babies == \"black_eyed_boy\") == 2:\n",
        "        success_count += 1\n",
        "\n",
        "probability = success_count / n_simulations\n",
        "print(\"Estimated probability of exactly 3 blue-eyed girls and 2 black-eyed boys:\", probability)\n"
      ],
      "metadata": {
        "colab": {
          "base_uri": "https://localhost:8080/"
        },
        "id": "HiMcDRixsL1W",
        "outputId": "2c87fc5d-9ebe-4e97-f3ac-39d8405f6d5b"
      },
      "execution_count": 19,
      "outputs": [
        {
          "output_type": "stream",
          "name": "stdout",
          "text": [
            "Estimated probability of exactly 3 blue-eyed girls and 2 black-eyed boys: 0.002667\n"
          ]
        }
      ]
    },
    {
      "cell_type": "code",
      "source": [
        "#2(a) :\n",
        "from scipy.stats import gamma\n",
        "\n",
        "mean = 1.5\n",
        "variance = 0.75\n",
        "\n",
        "theta = variance / mean\n",
        "k = mean / theta\n",
        "\n",
        "prob_exceeds_1_2 = 1 - gamma.cdf(1.2, a=k, scale=theta)\n",
        "print(\"Probability that repair time exceeds 1.2 hours:\", prob_exceeds_1_2)\n"
      ],
      "metadata": {
        "colab": {
          "base_uri": "https://localhost:8080/"
        },
        "id": "MlnsQO9NnmKJ",
        "outputId": "4122f6ef-bcfe-493b-d277-a4195373c440"
      },
      "execution_count": 20,
      "outputs": [
        {
          "output_type": "stream",
          "name": "stdout",
          "text": [
            "Probability that repair time exceeds 1.2 hours: 0.5697087466575106\n"
          ]
        }
      ]
    },
    {
      "cell_type": "code",
      "source": [
        "#2(b) :\n",
        "prob_exceeds_4 = 1 - gamma.cdf(4, a=k, scale=theta)\n",
        "conditional_prob = prob_exceeds_4 / prob_exceeds_1_2\n",
        "print(\"Conditional probability that repair time is at least 4 hours given it exceeds 1.2:\", conditional_prob)\n"
      ],
      "metadata": {
        "colab": {
          "base_uri": "https://localhost:8080/"
        },
        "id": "ZzU_aWesntSz",
        "outputId": "bbfa727f-c46f-4ce6-c259-3a1e324b1b72"
      },
      "execution_count": 21,
      "outputs": [
        {
          "output_type": "stream",
          "name": "stdout",
          "text": [
            "Conditional probability that repair time is at least 4 hours given it exceeds 1.2: 0.024142103881496773\n"
          ]
        }
      ]
    },
    {
      "cell_type": "code",
      "source": [
        "import matplotlib.pyplot as plt\n",
        "import numpy as np\n",
        "\n",
        "x = np.linspace(0, 10, 1000)\n",
        "pdf = gamma.pdf(x, a=k, scale=theta)\n",
        "\n",
        "plt.plot(x, pdf, label=\"PDF\")\n",
        "plt.title(\"Probability Density Function of Gamma Distribution\")\n",
        "plt.xlabel(\"Time (hours)\")\n",
        "plt.ylabel(\"Density\")\n",
        "plt.legend()\n",
        "plt.show()\n"
      ],
      "metadata": {
        "colab": {
          "base_uri": "https://localhost:8080/",
          "height": 472
        },
        "id": "wPxFyZDfnzB0",
        "outputId": "6f45b2b6-cd16-46c7-aa9a-11fcf6aabad0"
      },
      "execution_count": 22,
      "outputs": [
        {
          "output_type": "display_data",
          "data": {
            "text/plain": [
              "<Figure size 640x480 with 1 Axes>"
            ],
            "image/png": "[encoded data removed]"
          },
          "metadata": {}
        }
      ]
    },
    {
      "cell_type": "code",
      "source": [
        "cdf = gamma.cdf(x, a=k, scale=theta)\n",
        "\n",
        "plt.plot(x, cdf, label=\"CDF\", color=\"orange\")\n",
        "plt.title(\"Cumulative Distribution Function of Gamma Distribution\")\n",
        "plt.xlabel(\"Time (hours)\")\n",
        "plt.ylabel(\"Cumulative Probability\")\n",
        "plt.legend()\n",
        "plt.show()\n"
      ],
      "metadata": {
        "colab": {
          "base_uri": "https://localhost:8080/",
          "height": 472
        },
        "id": "5FkFzVfPnzTI",
        "outputId": "f79844a3-77a3-4d9c-b78b-330b290b3255"
      },
      "execution_count": 23,
      "outputs": [
        {
          "output_type": "display_data",
          "data": {
            "text/plain": [
              "<Figure size 640x480 with 1 Axes>"
            ],
            "image/png": "[encoded data removed]"
          },
          "metadata": {}
        }
      ]
    },
    {
      "cell_type": "code",
      "source": [
        "import pandas as pd\n",
        "\n",
        "data = [\n",
        "    [77, 82, 67, 67, 81],\n",
        "    [63, 78, 80, 70, 81],\n",
        "    [75, 73, 71, 66, 81],\n",
        "    [55, 72, 63, 70, 68],\n",
        "    [63, 63, 65, 70, 63],\n",
        "    [53, 61, 72, 64, 73],\n",
        "    [51, 67, 65, 65, 68],\n",
        "    [59, 70, 68, 62, 56],\n",
        "    [62, 60, 58, 62, 70],\n",
        "    [64, 72, 60, 62, 45],\n",
        "    [52, 64, 60, 63, 54],\n",
        "    [55, 67, 59, 62, 44],\n",
        "    [50, 50, 64, 55, 63],\n",
        "    [65, 63, 58, 56, 37],\n",
        "    [31, 55, 60, 57, 73],\n",
        "    [60, 64, 56, 54, 40],\n",
        "    [44, 69, 53, 53, 53],\n",
        "    [42, 69, 61, 55, 45],\n",
        "    [62, 46, 61, 57, 45],\n",
        "    [31, 49, 62, 63, 62],\n",
        "    [44, 61, 52, 62, 46],\n",
        "    [49, 41, 61, 49, 64],\n",
        "    [12, 58, 61, 63, 67],\n",
        "    [49, 53, 49, 62, 47],\n",
        "    [54, 49, 56, 47, 53],\n",
        "    [54, 53, 46, 59, 44],\n",
        "    [44, 56, 55, 61, 36],\n",
        "    [18, 44, 50, 57, 81],\n",
        "    [46, 52, 65, 50, 35],\n",
        "    [32, 45, 49, 57, 64],\n",
        "    [30, 69, 50, 52, 45],\n",
        "    [46, 49, 53, 59, 37],\n",
        "    [40, 27, 54, 61, 61],\n",
        "    [31, 42, 48, 54, 68],\n",
        "    [36, 59, 51, 45, 51],\n",
        "    [56, 40, 56, 54, 35],\n",
        "    [46, 56, 57, 49, 32],\n",
        "    [45, 42, 55, 56, 40],\n",
        "    [42, 60, 54, 49, 33],\n",
        "    [40, 63, 53, 54, 25],\n",
        "    [23, 55, 59, 53, 44],\n",
        "    [48, 48, 49, 51, 37],\n",
        "    [41, 63, 49, 46, 34],\n",
        "    [46, 52, 53, 41, 40],\n",
        "    [46, 61, 46, 38, 41],\n",
        "    [40, 57, 51, 52, 31],\n",
        "    [49, 49, 45, 48, 39],\n",
        "    [22, 58, 53, 56, 41],\n",
        "    [35, 60, 47, 54, 33],\n",
        "    [48, 56, 49, 42, 32],\n",
        "    [31, 57, 50, 54, 34],\n",
        "    [17, 53, 57, 43, 51],\n",
        "    [49, 57, 47, 39, 26],\n",
        "    [59, 50, 47, 15, 46],\n",
        "    [37, 56, 49, 28, 45],\n",
        "    [40, 43, 48, 21, 61],\n",
        "    [35, 35, 41, 51, 50],\n",
        "    [38, 44, 54, 47, 24],\n",
        "    [43, 43, 38, 34, 49],\n",
        "    [39, 46, 46, 32, 43],\n",
        "    [62, 44, 36, 22, 42],\n",
        "    [48, 38, 41, 44, 33],\n",
        "    [34, 42, 50, 47, 29],\n",
        "    [18, 51, 40, 56, 30],\n",
        "    [35, 36, 46, 48, 29],\n",
        "    [59, 53, 37, 22, 19],\n",
        "    [41, 41, 43, 30, 33],\n",
        "    [31, 52, 37, 27, 40],\n",
        "    [17, 51, 52, 35, 31],\n",
        "    [34, 30, 50, 47, 36],\n",
        "    [46, 40, 47, 29, 17],\n",
        "    [10, 46, 36, 47, 39],\n",
        "    [46, 37, 45, 15, 30],\n",
        "    [30, 34, 43, 46, 18],\n",
        "    [13, 51, 50, 25, 31],\n",
        "    [49, 50, 38, 23, 9],\n",
        "    [18, 32, 31, 45, 40],\n",
        "    [8, 42, 48, 26, 40],\n",
        "    [23, 38, 36, 48, 15],\n",
        "    [30, 24, 43, 33, 25],\n",
        "    [3, 9, 51, 47, 40],\n",
        "    [7, 51, 43, 17, 22],\n",
        "    [15, 40, 43, 23, 18],\n",
        "    [15, 38, 39, 28, 17],\n",
        "    [5, 30, 44, 36, 18],\n",
        "    [12, 30, 32, 35, 21],\n",
        "    [5, 26, 15, 20, 20],\n",
        "    [0, 40, 21, 9, 14]\n",
        "]\n",
        "\n",
        "columns = [\"MECH\", \"VECT\", \"ALG\", \"ANL\", \"STAT\"]\n",
        "\n",
        "df = pd.DataFrame(data, columns=columns)\n",
        "\n",
        "print(df)"
      ],
      "metadata": {
        "colab": {
          "base_uri": "https://localhost:8080/"
        },
        "id": "aocINq-on2MY",
        "outputId": "89c0fb01-d0f4-4226-a6cf-847c5fd4cf81"
      },
      "execution_count": 24,
      "outputs": [
        {
          "output_type": "stream",
          "name": "stdout",
          "text": [
            "    MECH  VECT  ALG  ANL  STAT\n",
            "0     77    82   67   67    81\n",
            "1     63    78   80   70    81\n",
            "2     75    73   71   66    81\n",
            "3     55    72   63   70    68\n",
            "4     63    63   65   70    63\n",
            "..   ...   ...  ...  ...   ...\n",
            "83    15    38   39   28    17\n",
            "84     5    30   44   36    18\n",
            "85    12    30   32   35    21\n",
            "86     5    26   15   20    20\n",
            "87     0    40   21    9    14\n",
            "\n",
            "[88 rows x 5 columns]\n"
          ]
        }
      ]
    },
    {
      "cell_type": "code",
      "source": [
        "len(df)"
      ],
      "metadata": {
        "colab": {
          "base_uri": "https://localhost:8080/"
        },
        "id": "E6kc8vTauA8U",
        "outputId": "8234f4e8-37bc-4fd8-edb6-6f17eaf4e8d5"
      },
      "execution_count": 25,
      "outputs": [
        {
          "output_type": "execute_result",
          "data": {
            "text/plain": [
              "88"
            ]
          },
          "metadata": {},
          "execution_count": 25
        }
      ]
    },
    {
      "cell_type": "code",
      "source": [
        "import pandas as pd\n",
        "from scipy.stats import ttest_1samp"
      ],
      "metadata": {
        "id": "O3TF-quWu_Hn"
      },
      "execution_count": 26,
      "outputs": []
    },
    {
      "cell_type": "code",
      "source": [
        "stat_marks = df[\"STAT\"]\n",
        "stat_mean = 38\n",
        "alpha_5_percent = 0.05\n",
        "\n",
        "\n",
        "t_stat, p_value = ttest_1samp(stat_marks, stat_mean, alternative='less')\n",
        "print(\"Part (a):\")\n",
        "print(\"t-statistic:\", t_stat)\n",
        "print(\"p-value:\", p_value)\n",
        "if p_value < alpha_5_percent:\n",
        "    print(\"Reject the null hypothesis: The average mark of the statistics subject is less than 38.\")\n",
        "else:\n",
        "    print(\"Fail to reject the null hypothesis: The average mark of the statistics subject is not significantly less than 38.\")\n"
      ],
      "metadata": {
        "colab": {
          "base_uri": "https://localhost:8080/"
        },
        "id": "a_pTbLlAuD7q",
        "outputId": "e6ca3b90-feec-45fe-a571-761d3da467a1"
      },
      "execution_count": 27,
      "outputs": [
        {
          "output_type": "stream",
          "name": "stdout",
          "text": [
            "Part (a):\n",
            "t-statistic: 2.341359400089043\n",
            "p-value: 0.9892504349285678\n",
            "Fail to reject the null hypothesis: The average mark of the statistics subject is not significantly less than 38.\n",
            "\n",
            "Part (b):\n",
            "t-statistic: -1.107869978341066\n",
            "p-value: 0.8605510739199222\n",
            "Fail to reject the null hypothesis: The average mark of the first 25 students in mechanics is not significantly greater than 56.\n"
          ]
        }
      ]
    },
    {
      "cell_type": "code",
      "source": [
        "\n",
        "mech_marks = df[\"MECH\"].iloc[:25]\n",
        "mech_mean = 56\n",
        "alpha_10_percent = 0.10\n",
        "\n",
        "t_stat, p_value = ttest_1samp(mech_marks, mech_mean, alternative='greater')\n",
        "print(\"\\nPart (b):\")\n",
        "print(\"t-statistic:\", t_stat)\n",
        "print(\"p-value:\", p_value)\n",
        "if p_value < alpha_10_percent:\n",
        "    print(\"Reject the null hypothesis: The average mark of the first 25 students in mechanics is greater than 56.\")\n",
        "else:\n",
        "    print(\"Fail to reject the null hypothesis: The average mark of the first 25 students in mechanics is not significantly greater than 56.\")"
      ],
      "metadata": {
        "id": "3kGOEps00Gpo"
      },
      "execution_count": 28,
      "outputs": []
    },
    {
      "cell_type": "code",
      "source": [
        "import numpy as np\n",
        "from scipy.stats import norm\n",
        "\n",
        "# Sample data (replace this with your DataFrame column)\n",
        "stat_marks = np.array(df[\"STAT\"])\n",
        "\n",
        "# Given values\n",
        "stat_mean = 38\n",
        "alpha_5_percent = 0.05\n",
        "\n",
        "# Calculate the sample mean, standard deviation, and sample size\n",
        "sample_mean = np.mean(stat_marks)\n",
        "sample_std = np.std(stat_marks, ddof=1)  # ddof=1 for sample standard deviation\n",
        "n = len(stat_marks)\n",
        "\n",
        "# Calculate the t-statistic (using standard normal approximation)\n",
        "t_stat = (sample_mean - stat_mean) / (sample_std / np.sqrt(n))\n",
        "\n",
        "# Calculate the p-value using the standard normal distribution (z-distribution)\n",
        "p_value = norm.cdf(t_stat)  # CDF of the standard normal distribution\n",
        "\n",
        "# Print the results\n",
        "print(\"Part (a):\")\n",
        "print(\"t-statistic:\", t_stat)\n",
        "print(\"p-value:\", p_value)\n",
        "\n",
        "# Hypothesis testing\n",
        "if p_value < alpha_5_percent:\n",
        "    print(\"Reject the null hypothesis: The average mark of the statistics subject is less than 38.\")\n",
        "else:\n",
        "    print(\"Fail to reject the null hypothesis: The average mark of the statistics subject is not significantly less than 38.\")\n"
      ],
      "metadata": {
        "id": "TTMiOvP16XHw"
      },
      "execution_count": null,
      "outputs": []
    },
    {
      "cell_type": "code",
      "source": [
        "\n"
      ],
      "metadata": {
        "id": "gECAxvIo6Xhm"
      },
      "execution_count": null,
      "outputs": []
    }
  ]
}